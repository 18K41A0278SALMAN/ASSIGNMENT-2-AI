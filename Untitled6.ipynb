{
  "nbformat": 4,
  "nbformat_minor": 0,
  "metadata": {
    "colab": {
      "name": "Untitled6.ipynb",
      "provenance": [],
      "authorship_tag": "ABX9TyMaOvu4+oumy7fvfm46JkbG",
      "include_colab_link": true
    },
    "kernelspec": {
      "name": "python3",
      "display_name": "Python 3"
    }
  },
  "cells": [
    {
      "cell_type": "markdown",
      "metadata": {
        "id": "view-in-github",
        "colab_type": "text"
      },
      "source": [
        "<a href=\"https://colab.research.google.com/github/18K41A0278SALMAN/ASSIGNMENT-2-AI/blob/master/Untitled6.ipynb\" target=\"_parent\"><img src=\"https://colab.research.google.com/assets/colab-badge.svg\" alt=\"Open In Colab\"/></a>"
      ]
    },
    {
      "cell_type": "code",
      "metadata": {
        "id": "CTCTsf4ZTidO",
        "colab_type": "code",
        "colab": {}
      },
      "source": [
        ""
      ],
      "execution_count": null,
      "outputs": []
    },
    {
      "cell_type": "markdown",
      "metadata": {
        "id": "umP93nivYxpU",
        "colab_type": "text"
      },
      "source": [
        "1.area of triangle"
      ]
    },
    {
      "cell_type": "code",
      "metadata": {
        "id": "ykX0taVZY4m_",
        "colab_type": "code",
        "colab": {
          "base_uri": "https://localhost:8080/",
          "height": 84
        },
        "outputId": "aef962b4-68ab-420b-96a5-75eb7bfa6621"
      },
      "source": [
        "a = float(input(\"Enter First side:\"))\n",
        "b = float(input(\"Enter Second side:\"))\n",
        "c = float(input(\"Enter Third side:\"))\n",
        "s = (a+b+c)/2\n",
        "area = (s*(s-a)*(s-b)*(s-c))**0.5\n",
        "print(\"Area of Triangle=\",area)"
      ],
      "execution_count": null,
      "outputs": [
        {
          "output_type": "stream",
          "text": [
            "Enter First side:6\n",
            "Enter Second side:7\n",
            "Enter Third side:9\n",
            "Area of Triangle= 20.97617696340303\n"
          ],
          "name": "stdout"
        }
      ]
    },
    {
      "cell_type": "markdown",
      "metadata": {
        "id": "R9SnGzAmZMVK",
        "colab_type": "text"
      },
      "source": [
        "2.Take a string and check wheathre given string is polindrome or not."
      ]
    },
    {
      "cell_type": "code",
      "metadata": {
        "id": "fgP-CNReZkiS",
        "colab_type": "code",
        "colab": {
          "base_uri": "https://localhost:8080/",
          "height": 50
        },
        "outputId": "a25db4c4-2c2e-4f44-bc90-2f075035b0be"
      },
      "source": [
        "string = input(\"Enter a String:\")\n",
        "if(string==string[::-1]):\n",
        "    print(\"The string is a P0lindrome\")\n",
        "else:\n",
        "    print(\"The string is not a Polindrome\")"
      ],
      "execution_count": null,
      "outputs": [
        {
          "output_type": "stream",
          "text": [
            "Enter a String:rotator\n",
            "The string is a P0lindrome\n"
          ],
          "name": "stdout"
        }
      ]
    },
    {
      "cell_type": "markdown",
      "metadata": {
        "id": "JGoeOqccaEuh",
        "colab_type": "text"
      },
      "source": [
        "3.Write a program that reads a year from the user and displays a message Indicating whether or not it is a leap year."
      ]
    },
    {
      "cell_type": "code",
      "metadata": {
        "id": "1wTH8OHwaXP7",
        "colab_type": "code",
        "colab": {
          "base_uri": "https://localhost:8080/",
          "height": 50
        },
        "outputId": "1dbe28d4-b53b-47fb-8f55-de9e06cc9cc8"
      },
      "source": [
        "year = int(input(\"Enter a year:\"))\n",
        "if year%4==0 and year%100!=0:\n",
        "    print(year,\"is a Leap Year\")\n",
        "elif year%100==0:\n",
        "    print(year,\"is not a Leap Year\")\n",
        "elif year%400==0:\n",
        "     print(year,\"is a Leap Year\")\n",
        "else:\n",
        "     print(year,\"is not a Leap Year\")"
      ],
      "execution_count": null,
      "outputs": [
        {
          "output_type": "stream",
          "text": [
            "Enter a year:2020\n",
            "2020 is a Leap Year\n"
          ],
          "name": "stdout"
        }
      ]
    },
    {
      "cell_type": "markdown",
      "metadata": {
        "id": "m_GXK1lwawMl",
        "colab_type": "text"
      },
      "source": [
        "\n",
        "4.Space To Hyphen problem\n",
        "Take a string as input, and replaces spaces “ “ with hyphens “-”, and returns a string."
      ]
    },
    {
      "cell_type": "code",
      "metadata": {
        "id": "7FqMgYnTa3gA",
        "colab_type": "code",
        "colab": {
          "base_uri": "https://localhost:8080/",
          "height": 50
        },
        "outputId": "c808e850-dc63-44bc-8c76-f968b6f402c0"
      },
      "source": [
        "string = input(\"Enter a string:\")\n",
        "string = string.replace(\" \",\"-\")\n",
        "print(\"New String:\",string)"
      ],
      "execution_count": null,
      "outputs": [
        {
          "output_type": "stream",
          "text": [
            "Enter a string:hai my self abc\n",
            "New String: hai-my-self-abc\n"
          ],
          "name": "stdout"
        }
      ]
    },
    {
      "cell_type": "markdown",
      "metadata": {
        "id": "iU0hxEmSbWsd",
        "colab_type": "text"
      },
      "source": [
        "Unique Sort problem\n",
        "5.Take a string as input that accepts a comma separated sequence of words as input and prints the unique words in sorted form (alphanumerically)."
      ]
    },
    {
      "cell_type": "code",
      "metadata": {
        "id": "tv7mLrIJboJV",
        "colab_type": "code",
        "colab": {
          "base_uri": "https://localhost:8080/",
          "height": 50
        },
        "outputId": "260b9b20-3485-4729-de71-f113424d5adc"
      },
      "source": [
        "Input = input(\"Enter  words:\").split(\",\")\n",
        "words = list(set(Input))\n",
        "words.sort()\n",
        "print(\"Unique words in sorted form are:\",str(words))"
      ],
      "execution_count": null,
      "outputs": [
        {
          "output_type": "stream",
          "text": [
            "Enter  words:lion,tiger,goat,tiger\n",
            "Unique words in sorted form are: ['goat', 'lion', 'tiger']\n"
          ],
          "name": "stdout"
        }
      ]
    },
    {
      "cell_type": "markdown",
      "metadata": {
        "id": "g6012N2ycJmK",
        "colab_type": "text"
      },
      "source": [
        "\n",
        "Tax Calculator\n",
        "\n",
        "Ask the user for their monthly salary. Calculate whether they have to pay tax and if so, how much is that amount .Print the result"
      ]
    },
    {
      "cell_type": "code",
      "metadata": {
        "id": "gM0KyrnzcSun",
        "colab_type": "code",
        "colab": {
          "base_uri": "https://localhost:8080/",
          "height": 50
        },
        "outputId": "1371bab7-9730-4161-cb8f-9903c0113228"
      },
      "source": [
        "i=int(input(\"enter income\"))\n",
        "if i<250000:\n",
        "  print(\"nil\")\n",
        "elif i>250000 and i<=500000:\n",
        "  tax=i*(5/100)\n",
        "  print(tax)\n",
        "elif i>500000 and i<=750000:\n",
        "  tax=i*(10/100)\n",
        "  print(tax)\n",
        "elif i>750000 and i<=1000000:\n",
        "  tax=i*(15/100) \n",
        "  print(tax)\n",
        "elif i>1000000 and i<=1250000:\n",
        "  tax=i*(20/100)\n",
        "  print(tax)\n",
        "elif i>12500010 and i<=1500000:\n",
        "  tax=i*(25/100)\n",
        "  print(tax)\n",
        "else:\n",
        " tax=i*(30/100)\n",
        " print(tax)"
      ],
      "execution_count": null,
      "outputs": [
        {
          "output_type": "stream",
          "text": [
            "enter income300000\n",
            "15000.0\n"
          ],
          "name": "stdout"
        }
      ]
    },
    {
      "cell_type": "markdown",
      "metadata": {
        "id": "VEj2fzU1d6AO",
        "colab_type": "text"
      },
      "source": [
        "Take a list of integers as an argument, and converts it into a single integer (return the integer)."
      ]
    },
    {
      "cell_type": "code",
      "metadata": {
        "id": "X_aE3F4meE86",
        "colab_type": "code",
        "colab": {
          "base_uri": "https://localhost:8080/",
          "height": 34
        },
        "outputId": "9ddbb62b-5788-4f89-e75c-2169d571031d"
      },
      "source": [
        "list = [15,63,90]\n",
        "for i in list:\n",
        "    print(i,end=\"\")"
      ],
      "execution_count": null,
      "outputs": [
        {
          "output_type": "stream",
          "text": [
            "156390"
          ],
          "name": "stdout"
        }
      ]
    },
    {
      "cell_type": "markdown",
      "metadata": {
        "id": "VKTd5n38euKP",
        "colab_type": "text"
      },
      "source": [
        "Units of Time\n",
        "\n",
        "Create a program that reads duration from the user as a number of days, hours, minutes, and seconds. Compute and display the total number of seconds represented by this duration."
      ]
    },
    {
      "cell_type": "code",
      "metadata": {
        "id": "BeIsw9BcblZy",
        "colab_type": "code",
        "colab": {
          "base_uri": "https://localhost:8080/",
          "height": 101
        },
        "outputId": "2f2799ca-3e45-419a-97a8-9f38e0eed704"
      },
      "source": [
        "seconds_per_minute = 60\n",
        "seconds_per_hour = 3600\n",
        "seconds_per_day = 86400\n",
        "days = int(input(\"Enter no. of days=\"))\n",
        "hours = int(input(\"Enter no. of hours=\"))\n",
        "minutes = int(input(\"Enter no. of minutes=\"))\n",
        "seconds = int(input(\"Enter no. of seconds=\"))\n",
        "total_seconds = days*seconds_per_day\n",
        "total_seconds = total_seconds+(hours*seconds_per_hour)\n",
        "total_seconds = total_seconds+(minutes*seconds_per_minute)\n",
        "total_seconds = total_seconds+seconds\n",
        "print(\"Total seconds =\",total_seconds)\n"
      ],
      "execution_count": null,
      "outputs": [
        {
          "output_type": "stream",
          "text": [
            "Enter no. of days=15\n",
            "Enter no. of hours=8\n",
            "Enter no. of minutes=35\n",
            "Enter no. of seconds=50\n",
            "Total seconds = 1326950\n"
          ],
          "name": "stdout"
        }
      ]
    },
    {
      "cell_type": "markdown",
      "metadata": {
        "id": "1aOGK1x-faPR",
        "colab_type": "text"
      },
      "source": [
        "Sort 3 Integers\n",
        "\n",
        "Given three integers (given through user input), sort the numbers using |min| and |max| functions."
      ]
    },
    {
      "cell_type": "code",
      "metadata": {
        "id": "WLgbLglPfhHC",
        "colab_type": "code",
        "colab": {
          "base_uri": "https://localhost:8080/",
          "height": 84
        },
        "outputId": "3d55d6e7-a1d7-4811-bfba-a72d5b9d13a2"
      },
      "source": [
        "first = int(input(\"Enter the first no.:\"))\n",
        "second = int(input(\"Enter the second no.:\"))\n",
        "third = int(input(\"Enter the third no.:\"))\n",
        "minimum = min(first,second,third)\n",
        "maximum = max(first,second,third)\n",
        "remaining = (first+second+third)-minimum-maximum\n",
        "print(\"Sorted form:\",minimum,remaining,maximum)"
      ],
      "execution_count": null,
      "outputs": [
        {
          "output_type": "stream",
          "text": [
            "Enter the first no.:60\n",
            "Enter the second no.:40\n",
            "Enter the third no.:50\n",
            "Sorted form: 40 50 60\n"
          ],
          "name": "stdout"
        }
      ]
    },
    {
      "cell_type": "markdown",
      "metadata": {
        "id": "3lLEePdIf99k",
        "colab_type": "text"
      },
      "source": [
        "10.Write a program that reads a date from the user and computes its immediate successor. The date is the format YYYY-MM-DD. So, 2020-04-15 will have the successor 2020-04-16.\n"
      ]
    },
    {
      "cell_type": "code",
      "metadata": {
        "id": "8m8KyRRZgBjn",
        "colab_type": "code",
        "colab": {
          "base_uri": "https://localhost:8080/",
          "height": 84
        },
        "outputId": "b3be5e02-9692-41f8-9755-792772d559b1"
      },
      "source": [
        "\n",
        "year = int(input(\"Input a year: \"))\n",
        "\n",
        "if (year % 400 == 0):\n",
        "    leap_year = True\n",
        "elif (year % 100 == 0):\n",
        "    leap_year = False\n",
        "elif (year % 4 == 0):\n",
        "    leap_year = True\n",
        "else:\n",
        "    leap_year = False\n",
        "\n",
        "month = int(input(\"Input a month (1-12): \"))\n",
        "\n",
        "if month in (1, 3, 5, 7, 8, 10, 12):\n",
        "    month_length = 31\n",
        "elif month == 2:\n",
        "    if leap_year:\n",
        "        month_length = 29\n",
        "    else:\n",
        "        month_length = 28\n",
        "else:\n",
        "    month_length = 30\n",
        "\n",
        "\n",
        "day = int(input(\"Input a day (1-31): \"))\n",
        "\n",
        "if day < month_length:\n",
        "    day += 1\n",
        "else:\n",
        "    day = 1\n",
        "    if month == 12:\n",
        "        month = 1\n",
        "        year += 1\n",
        "    else:\n",
        "        month += 1\n",
        "print(\"The next date is [yyyy-mm-dd] %d-%d-%d.\" % (year, month, day))"
      ],
      "execution_count": null,
      "outputs": [
        {
          "output_type": "stream",
          "text": [
            "Input a year: 2000\n",
            "Input a month (1-12): 3\n",
            "Input a day (1-31): 10\n",
            "The next date is [yyyy-mm-dd] 2000-3-11.\n"
          ],
          "name": "stdout"
        }
      ]
    },
    {
      "cell_type": "markdown",
      "metadata": {
        "id": "iJe8HtiXguQt",
        "colab_type": "text"
      },
      "source": [
        "\n",
        "11.Compute product of a list of numbers [45 ,3,2,89,72,1,10,7] Output: 121111200"
      ]
    },
    {
      "cell_type": "code",
      "metadata": {
        "id": "zTxYeN_igwgP",
        "colab_type": "code",
        "colab": {
          "base_uri": "https://localhost:8080/",
          "height": 34
        },
        "outputId": "aa258b94-8fd3-45df-aeb9-fc768779d704"
      },
      "source": [
        "l = [45 ,3,2,89,72,1,10,7]\n",
        "m = 1\n",
        "for i in l:\n",
        "    m = m*i\n",
        "print(m)"
      ],
      "execution_count": null,
      "outputs": [
        {
          "output_type": "stream",
          "text": [
            "121111200\n"
          ],
          "name": "stdout"
        }
      ]
    },
    {
      "cell_type": "markdown",
      "metadata": {
        "id": "gM5ZrWw4hOb0",
        "colab_type": "text"
      },
      "source": [
        "\n",
        "12.Compute given Num_list = [5, 6,8 ,34,89,1] to get desired output Output: Out_list=[11,14,42,123,90]"
      ]
    },
    {
      "cell_type": "code",
      "metadata": {
        "id": "KCCvXmNEhUSu",
        "colab_type": "code",
        "colab": {
          "base_uri": "https://localhost:8080/",
          "height": 34
        },
        "outputId": "30c2763d-fbcf-4b64-e33b-d0cc2eb5d48e"
      },
      "source": [
        "Num_list = [5,6,8,34,89,1]\n",
        "l = []\n",
        "for i in range(len(Num_list)-1):\n",
        "    n = Num_list[i]+Num_list[i+1]\n",
        "    l.append(n)\n",
        "print(\"Out_list:\",l)"
      ],
      "execution_count": null,
      "outputs": [
        {
          "output_type": "stream",
          "text": [
            "Out_list: [11, 14, 42, 123, 90]\n"
          ],
          "name": "stdout"
        }
      ]
    },
    {
      "cell_type": "markdown",
      "metadata": {
        "id": "jARRft6vhoOo",
        "colab_type": "text"
      },
      "source": [
        "13.Compute given Num_tuple = (5, 6,8 ,3,9,1) to get desired output Output: Out_list = [5, 30, 240, 720, 6480, 6480]"
      ]
    },
    {
      "cell_type": "code",
      "metadata": {
        "id": "8lIWZJN8hz8o",
        "colab_type": "code",
        "colab": {
          "base_uri": "https://localhost:8080/",
          "height": 34
        },
        "outputId": "3816d297-aaeb-423e-a6e0-c37507d708f4"
      },
      "source": [
        "Num_tuple = (5,6,8,3,9,1)\n",
        "l = []\n",
        "m = 1\n",
        "for i in range(len(Num_tuple)):\n",
        "    m = m*Num_tuple[i]\n",
        "    l.append(m)\n",
        "print(l)"
      ],
      "execution_count": null,
      "outputs": [
        {
          "output_type": "stream",
          "text": [
            "[5, 30, 240, 720, 6480, 6480]\n"
          ],
          "name": "stdout"
        }
      ]
    },
    {
      "cell_type": "markdown",
      "metadata": {
        "id": "2n7883vEjqga",
        "colab_type": "text"
      },
      "source": [
        "Write a Python code that takes a number and returns a list of its digits. So for 586392 it should return [5,8,6,3,9,2]"
      ]
    },
    {
      "cell_type": "code",
      "metadata": {
        "id": "tIzEtV-gj2Qf",
        "colab_type": "code",
        "colab": {
          "base_uri": "https://localhost:8080/",
          "height": 50
        },
        "outputId": "e78be624-d2f8-49c2-9408-6d8ccbc72f8a"
      },
      "source": [
        "n = input(\"Enter a number:\")\n",
        "l = []\n",
        "for i in range(len(n)):\n",
        "    l.append(n[i])\n",
        "print(l)"
      ],
      "execution_count": null,
      "outputs": [
        {
          "output_type": "stream",
          "text": [
            "Enter a number:987654\n",
            "['9', '8', '7', '6', '5', '4']\n"
          ],
          "name": "stdout"
        }
      ]
    },
    {
      "cell_type": "markdown",
      "metadata": {
        "id": "5nSErgMxkKvV",
        "colab_type": "text"
      },
      "source": [
        "15.Write a program that finds the longest palindromic substring of a given string"
      ]
    },
    {
      "cell_type": "code",
      "metadata": {
        "id": "6dSoGc-VkNt0",
        "colab_type": "code",
        "colab": {
          "base_uri": "https://localhost:8080/",
          "height": 50
        },
        "outputId": "7e21cd7d-d3bf-44bf-f8a7-f2e3a711de92"
      },
      "source": [
        "def longestpalindrome(n):\n",
        "    d=[[False for i in range(len(n))] for i in range(len(n))]\n",
        "    for i in range(len(n)):\n",
        "        d[i][i]=True\n",
        "    maxlen=1\n",
        "    start=0\n",
        "    for j in range(2,len(n)+1):\n",
        "        for i in range(len(n)-j+1):\n",
        "            end=i+j\n",
        "            if j==2:\n",
        "                if n[i]==n[end-1]:\n",
        "                    d[i][end-1]=True\n",
        "                    maxlen=j\n",
        "                    start=i\n",
        "            else:\n",
        "                if n[i]==n[end-1] and d[i+1][end-2]:\n",
        "                    d[i][end-1]=True\n",
        "                    maxlen=j\n",
        "                    start=i\n",
        "    return n[start:start+maxlen]\n",
        "n=input(\"Enter a string : \")\n",
        "print(longestpalindrome(n))\n"
      ],
      "execution_count": null,
      "outputs": [
        {
          "output_type": "stream",
          "text": [
            "Enter a string : artificial intellengence\n",
            "elle\n"
          ],
          "name": "stdout"
        }
      ]
    },
    {
      "cell_type": "markdown",
      "metadata": {
        "id": "t7ldc58TkuIi",
        "colab_type": "text"
      },
      "source": [
        "Substring Check (Bug Funny) Given two binary strings, A (of length 10) and B (of length 5), output 1 if B is a substring of A and 0 otherwise. First two lines of input: 1010110010 10110 1110111011 10011 First two lines of output: 1 0"
      ]
    },
    {
      "cell_type": "code",
      "metadata": {
        "id": "gYyjrCiik-Ab",
        "colab_type": "code",
        "colab": {
          "base_uri": "https://localhost:8080/",
          "height": 67
        },
        "outputId": "bfdfb031-1821-4197-edf3-26a8c4a6ba7e"
      },
      "source": [
        "def check(A, B): \n",
        "    if (A.find(B) == -1): \n",
        "        print(\"Output=0\") \n",
        "    else: \n",
        "        print(\"Output=1\")\n",
        "A = input(\"Enter a binary string of length 10:\")\n",
        "B =input(\"Enter a binary string of length 5:\")\n",
        "check(A, B)"
      ],
      "execution_count": null,
      "outputs": [
        {
          "output_type": "stream",
          "text": [
            "Enter a binary string of length 10:1010101001\n",
            "Enter a binary string of length 5:01010\n",
            "Output=1\n"
          ],
          "name": "stdout"
        }
      ]
    },
    {
      "cell_type": "markdown",
      "metadata": {
        "id": "rNk33CoVl0FS",
        "colab_type": "text"
      },
      "source": [
        "1.POUR1 - Pouring water Given two vessels, one of which can accommodate a litres of water and the other\n",
        "2.b litres of water, determine the number of steps required to obtain exactly c litres of water in one of the vessels. At the beginning both vessels are empty. The following operations are counted as 'steps': • emptying a vessel, • filling a vessel, • pouring water from one vessel to the other, without spilling, until one of the vessels is either full or empty. Input An integer t, 1<=t<=100, denoting the number of testcases , followed by t sets of input data, each consisting of three positive integers a, b, c, not larger than 40000, given in separate lines. Output For each set of input data, output the minimum number of steps required to obtain c litres, or -1 if this is impossible."
      ]
    },
    {
      "cell_type": "code",
      "metadata": {
        "id": "D1oru1s2oDnW",
        "colab_type": "code",
        "colab": {
          "base_uri": "https://localhost:8080/",
          "height": 101
        },
        "outputId": "01536f6d-2d47-4bc0-bdb1-2e95ab4f15f2"
      },
      "source": [
        "t=int(input(\"number of test case=\"))\n",
        "for i in range(t):\n",
        "  a,b,c=map(int,input(\"enter a b c =\").split())\n",
        "  if a>b:\n",
        "    d=a-b\n",
        "  elif a<b:\n",
        "    d=b-a\n",
        "  if c==a or c==b:\n",
        "    print(\"1\")\n",
        "  elif d==c:\n",
        "    print(\"2\")\n",
        "  else:\n",
        "    print(\"-1\")"
      ],
      "execution_count": null,
      "outputs": [
        {
          "output_type": "stream",
          "text": [
            "number of test case=2\n",
            "enter a b c =2 3 4\n",
            "-1\n",
            "enter a b c =8 6 4\n",
            "-1\n"
          ],
          "name": "stdout"
        }
      ]
    }
  ]
}